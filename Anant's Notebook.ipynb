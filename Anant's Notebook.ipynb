{
 "cells": [
  {
   "cell_type": "markdown",
   "id": "87d90367-c504-42f0-9c69-626872d05638",
   "metadata": {},
   "source": [
    "Anant's Notebook "
   ]
  },
  {
   "cell_type": "markdown",
   "id": "3e95a8c2",
   "metadata": {},
   "source": []
  },
  {
   "cell_type": "markdown",
   "id": "6084953b-b55c-4396-90a0-53d1c9c43b09",
   "metadata": {},
   "source": [
    "Hello this is my first notebook"
   ]
  },
  {
   "cell_type": "markdown",
   "id": "e52af908-2d25-40cb-8444-ad6fc0eacef0",
   "metadata": {},
   "source": [
    "Data Science Languages used in python\n",
    "-R\n",
    "-Python\n",
    "-Java\n",
    "-SQL\n",
    "-Julia\n",
    "-Scala"
   ]
  },
  {
   "cell_type": "markdown",
   "id": "f7e20472-260a-4f76-bb63-56726ab240d4",
   "metadata": {},
   "source": [
    "Data Science Libraries used in python\n",
    "-Pandas\n",
    "-Matplotlib\n",
    "-Scikit-learn\n",
    "-Seaborn\n",
    "-Keras\n",
    "-Tensorflow"
   ]
  },
  {
   "cell_type": "markdown",
   "id": "7e8553ce-77d4-4121-bfed-7ff5f7a1dff8",
   "metadata": {},
   "source": [
    "Data Science Tools used in python\n",
    "-TensorFlow\n",
    "-Apache Spark\n",
    "-Tableau"
   ]
  },
  {
   "cell_type": "markdown",
   "id": "63a257e2-7ae8-4c88-9283-d85fce8fa3ec",
   "metadata": {},
   "source": [
    "Arithmetic expression in python\n",
    "- A+B\n",
    "- A-B\n",
    "- A/C\n",
    "- A//C\n",
    "- A*C\n",
    "- A**C"
   ]
  },
  {
   "cell_type": "code",
   "execution_count": 11,
   "id": "03e2a906-f859-4e06-b581-e755d51e8add",
   "metadata": {},
   "outputs": [
    {
     "name": "stdout",
     "output_type": "stream",
     "text": [
      "addition of numbers 19\n",
      "addition of numbers 90\n"
     ]
    }
   ],
   "source": [
    "A=10\n",
    "B=9\n",
    "print(\"addition of numbers\", A+B)\n",
    "print(\"addition of numbers\", A*B)"
   ]
  },
  {
   "cell_type": "code",
   "execution_count": 15,
   "id": "f5035047-3694-4be3-b02f-56fc8b2ea65e",
   "metadata": {},
   "outputs": [
    {
     "name": "stdout",
     "output_type": "stream",
     "text": [
      "enter number of minutes you want to convert 60\n"
     ]
    },
    {
     "name": "stdout",
     "output_type": "stream",
     "text": [
      "the  60 will be 1.0 hours\n"
     ]
    }
   ],
   "source": [
    "C=int(input(\"enter number of minutes you want to convert\"))\n",
    "print(\"the \", C ,\"will be\", C/60, \"hours\" )"
   ]
  },
  {
   "cell_type": "markdown",
   "id": "6e1afc1f-ae2e-40ca-be29-58dbd9a3b941",
   "metadata": {},
   "source": [
    "Exercise 2 - Create a markdown cell with the title of the notebook. (1 pt)\n",
    "\n",
    "Exercise 3 - Create a markdown cell for an introduction. (1 pt)\n",
    "\n",
    "Exercise 4 - Create a markdown cell to list data science languages. (3 pts)\n",
    "\n",
    "Exercise 5 - Create a markdown cell to list data science libraries. (3 pts)\n",
    "\n",
    "Exercise 6 - Create a markdown cell with a table of Data Science tools. (3 pts)\n",
    "\n",
    "Exercise 7 - Create a markdown cell introducing arithmetic expression examples. (1 pt)\n",
    "\n",
    "Exercise 8 - Create a code cell to multiply and add numbers. (2 pts)\n",
    "\n",
    "Exercise 9 - Create a code cell to convert minutes to hours. (2 pts)\n",
    "\n",
    "Exercise 10 -Insert a markdown cell to list Objectives. (3 pts)\n",
    "\n",
    "Exercise 11 - Create a markdown cell to indicate the Author’s name. (2 pts)\n",
    "\n",
    "Exercise 12 - Share your notebook through GitHub (3 pts)\n",
    "\n",
    "Exercise 13 - Take a screenshot of the first page of the notebook. (1 pt)"
   ]
  },
  {
   "cell_type": "markdown",
   "id": "314ba11f-a3a2-46bc-b3f3-902e104d71dd",
   "metadata": {},
   "source": [
    "Author name- Anant Lokhande"
   ]
  },
  {
   "cell_type": "code",
   "execution_count": null,
   "id": "7579b463-8b25-4ac0-858c-90d52eaa035d",
   "metadata": {},
   "outputs": [],
   "source": []
  },
  {
   "cell_type": "code",
   "execution_count": null,
   "id": "1e33ac50-4c92-478a-b3d6-84912f0d6de1",
   "metadata": {},
   "outputs": [],
   "source": []
  },
  {
   "cell_type": "code",
   "execution_count": null,
   "id": "4c0f724a-062c-40ee-8565-fbb3062080f9",
   "metadata": {},
   "outputs": [],
   "source": []
  },
  {
   "cell_type": "code",
   "execution_count": null,
   "id": "ae35fcaf-f0d7-49ec-bece-16db5f034fae",
   "metadata": {},
   "outputs": [],
   "source": []
  },
  {
   "cell_type": "code",
   "execution_count": null,
   "id": "c28b77e0-33aa-4e6c-ab5e-3f80b25cd15b",
   "metadata": {},
   "outputs": [],
   "source": []
  },
  {
   "cell_type": "code",
   "execution_count": null,
   "id": "e63f408e-08b9-4e2f-a08b-dd9f69e004d4",
   "metadata": {},
   "outputs": [],
   "source": []
  },
  {
   "cell_type": "code",
   "execution_count": null,
   "id": "63628cd7-860d-44e1-a58f-4987348e3448",
   "metadata": {},
   "outputs": [],
   "source": []
  },
  {
   "cell_type": "code",
   "execution_count": null,
   "id": "b86d99f4-fb76-49b6-b8bd-1bf1f9d71c4d",
   "metadata": {},
   "outputs": [],
   "source": []
  },
  {
   "cell_type": "code",
   "execution_count": null,
   "id": "477aa573-0152-4d06-8f91-5c18514c1898",
   "metadata": {},
   "outputs": [],
   "source": []
  }
 ],
 "metadata": {
  "kernelspec": {
   "display_name": "Python 3 (ipykernel)",
   "language": "python",
   "name": "python3"
  },
  "language_info": {
   "codemirror_mode": {
    "name": "ipython",
    "version": 3
   },
   "file_extension": ".py",
   "mimetype": "text/x-python",
   "name": "python",
   "nbconvert_exporter": "python",
   "pygments_lexer": "ipython3",
   "version": "3.12.2"
  }
 },
 "nbformat": 4,
 "nbformat_minor": 5
}
